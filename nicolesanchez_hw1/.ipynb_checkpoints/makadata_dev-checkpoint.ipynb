{
 "cells": [
  {
   "cell_type": "code",
   "execution_count": 26,
   "metadata": {
    "collapsed": false
   },
   "outputs": [
    {
     "name": "stdout",
     "output_type": "stream",
     "text": [
      "Please provide values for N, a, b, μ, σ\n"
     ]
    }
   ],
   "source": [
    "# This script makes the data for problem set 1                                              \n",
    "#      N, number of pairs of points                                                         \n",
    "#      e, noise/error term, random variable from Gaussian dist.                             \n",
    "#      mu,  mean of e                                                                       \n",
    "#      sigma, standard deviation, *assuming standard deviation is ind of x                  \n",
    "\n",
    "# Writes out data.out                                                                                                                                                                 \n",
    "import matplotlib as plt\n",
    "import numpy as np\n",
    "#import sys\n",
    "#print(sys.argv)\n",
    "\n",
    "#if len(sys.argv) <= 1:\n",
    "print(r'Please provide values for N, a, b, '+u'\\u03BC'','+u' \\u03C3')\n",
    "\n"
   ]
  },
  {
   "cell_type": "code",
   "execution_count": 10,
   "metadata": {
    "collapsed": false
   },
   "outputs": [],
   "source": [
    "# CONSTANTS: Part c\n",
    "N = 1000 # number of pairs of points        \n",
    "\n",
    "a = 1\n",
    "b = 2\n",
    "mu = 0\n",
    "sigma = 0.1"
   ]
  },
  {
   "cell_type": "code",
   "execution_count": 28,
   "metadata": {
    "collapsed": false
   },
   "outputs": [],
   "source": [
    "# Part a\n",
    "#N     = sys.argv[1]\n",
    "#a     = sys.argv[3]\n",
    "#b     = sys.argv[4]\n",
    "#mu    = sys.argv[5]\n",
    "#sigma = sys.argv[6]\n",
    "\n",
    "x = np.random.uniform(0.0,10.0,N)\n",
    "e = np.random.normal(mu, sigma)\n",
    "\n",
    "def func(x,e):\n",
    "    y = ax + b + e\n",
    "    return y"
   ]
  },
  {
   "cell_type": "code",
   "execution_count": null,
   "metadata": {
    "collapsed": false
   },
   "outputs": [],
   "source": [
    "# Part b"
   ]
  },
  {
   "cell_type": "code",
   "execution_count": null,
   "metadata": {
    "collapsed": true
   },
   "outputs": [],
   "source": []
  }
 ],
 "metadata": {
  "anaconda-cloud": {},
  "kernelspec": {
   "display_name": "Python [Root]",
   "language": "python",
   "name": "Python [Root]"
  },
  "language_info": {
   "codemirror_mode": {
    "name": "ipython",
    "version": 3
   },
   "file_extension": ".py",
   "mimetype": "text/x-python",
   "name": "python",
   "nbconvert_exporter": "python",
   "pygments_lexer": "ipython3",
   "version": "3.5.2"
  }
 },
 "nbformat": 4,
 "nbformat_minor": 0
}
