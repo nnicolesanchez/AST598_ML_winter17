{
 "cells": [
  {
   "cell_type": "markdown",
   "metadata": {},
   "source": [
    "Notes from January 7, 2017"
   ]
  },
  {
   "cell_type": "code",
   "execution_count": null,
   "metadata": {
    "collapsed": true
   },
   "outputs": [],
   "source": [
    "#Email HPC club to get HYAK Account\n",
    "\n",
    "# Once you have a hyak account log in:\n",
    "ssh hyak.washington.edu\n",
    "\n",
    "# You need to ask hyak for a session:\n",
    "qsub -I -q build -l walltime=3:00:00  #give yourself enough time; default is 0.5 hour\n",
    "\n",
    "module avail  # tells you what is available \n",
    "module load anaconda_2.4\n",
    "which python\n",
    "\n",
    "# Then you can continue to do whatever python stuff you need to "
   ]
  },
  {
   "cell_type": "markdown",
   "metadata": {},
   "source": [
    "What is Machine Learning?\n",
    "- Not really about machines, not really about learning\n",
    "\n",
    "- Fancy word for \"curve fitting\"\n",
    "\n",
    "Curve fitting:\n",
    "- two types: \"unsupervised\" and \"supervised\"\n",
    "- We'll start with regression, but basically just trying to predict future outcomes\n",
    "\n",
    "Supervised: (Learning)\n",
    "- Training Set Data\n",
    "    - Use this data to create function f\n",
    "- Test Set Data\n",
    "    - Apply function f to tested data\n",
    "- Examples:\n",
    "    - Regression: f takes on continuous values\n",
    "        - i.e. voltage proportional to whatever gives you f\n",
    "        - y = f(x)\n",
    "        - y is the continuous function (dependent variable), x is the indep variable/attribute/feature\n",
    "    - Classification: \n",
    "\n",
    "Unsupervised:\n",
    "- Looking for structure in the data\n",
    "    - Clustering, etc\n",
    "- Often similar to initialize\n"
   ]
  },
  {
   "cell_type": "markdown",
   "metadata": {},
   "source": [
    "$\\textbf{Today we'll look at linear regression:}$\n",
    "- Note: we call these \"linear models\" \n",
    "    - but does not imply underlying law like in physics\n",
    "    - it is a FIT to the data\n",
    "    \n",
    "Linear regression: (or Linear Model)\n",
    "- y_i, given data (training set data)\n",
    "- f, if continuous (regression)\n",
    "- f, if discrete (classification)\n",
    " \n",
    "$\\textbf{Our learning part:}$\n",
    "\n",
    "Given: \n",
    "- y_i, response variable\n",
    "- \\textbf{x_i} = [x_i1, x_i2,...,x_ip]\n",
    "- p, features/attributes/independent variable\n",
    "\n",
    "Find approximation for f if:\n",
    "- y_i = f(x_i)\n",
    "* this is different from an IDEAL f, which will usually be denoted in someway differently from approx(f)\n",
    "\n",
    "So \\textbf{x_i} is our training set data\n",
    "\n",
    "Now we want to predist y for test set data using calculated f\n",
    "- y_j = f(x_j)\n",
    "\n",
    "So the simplest thing we can assume is that\n",
    "- y = $\\beta_{0}$ + $\\Sigma^{P}$$_{j=1}$ $x_j$*$\\beta_j$ = $f(x_1,x_2,...,x_P)$\n",
    "- y = $\\textbf{x}^T$ * ${\\textbf{ \\beta }}$\n",
    "    = [horizontal x vector][vertical beta vector]\n",
    "\n",
    "$y = mc + c$ \n",
    "- $m$ = slope\n",
    "- $c$ = intercept\n",
    "\n",
    "\n"
   ]
  },
  {
   "cell_type": "markdown",
   "metadata": {},
   "source": [
    "$\\textbf{How much can you trust your data? Is it believable?}$\n",
    "- We want to estimate how good our function is\n",
    "\n",
    "So let's start with an x set that is one value\n",
    "- Note even a vector, just a scalar\n",
    "- $\\textbf{x}$ = $x_{i}$ \n",
    "\n",
    "We begin with:\n",
    "- $y$ = $\\beta_0$ + $\\beta_{1}$*$x$ + $\\epsilon$\n",
    "- $\\beta_0$ = intercept\n",
    "- $\\beta_1$ = slope\n",
    "- $x$ = scalar, one dependent variable\n",
    "- $\\epsilon$ = noise/error, \n",
    "    - homoscedastic:\n",
    "        - if $\\epsilon$ is independent of x, variance of gaussian is the same regardless of x\n",
    "        - often assumed initially though not always true\n",
    "    - heteroscedastic:\n",
    "        if dependent on x\n",
    "        \n",
    "So we know: Training set \n",
    "- ($x_1$,$y_1$)\n",
    "- ($x_2$,$y_2$)\n",
    "- ($x_3$,$y_3$)\n",
    "\n",
    "Residual:\n",
    "- the residual will tell you how good your fit is\n",
    "    - $e_i$ = $y_i$ - $\\textbf{y_i}$\n",
    "        - $y_i$ = from training set above\n",
    "        - $\\textbf{y_i}$ = the y you get after using the function\n",
    "\n",
    "\n",
    "Residual Sum of Square (RSS) \n",
    "- $\\Phi$ $= RSS =$ $\\Sigma$$^N$$_{i=1}$($y_i$ - $\\beta_0$*$x_i$)$^2$\n",
    "\n",
    "Least two squares approach:\n",
    "- Choose $\\beta_0$ and $beta_1$ to minimize RSS\n",
    "\n",
    "$\\delta$$\\Phi$ / ($\\delta$$\\beta$) = "
   ]
  },
  {
   "cell_type": "markdown",
   "metadata": {},
   "source": [
    "Next time: \n",
    "- Likelihood\n",
    "- Polynomial Regression"
   ]
  },
  {
   "cell_type": "code",
   "execution_count": 1,
   "metadata": {
    "collapsed": true
   },
   "outputs": [],
   "source": [
    "# NOTE: I finished the above notes on paper. See little binder"
   ]
  },
  {
   "cell_type": "markdown",
   "metadata": {},
   "source": [
    "Notes from January 13, 2017"
   ]
  },
  {
   "cell_type": "markdown",
   "metadata": {},
   "source": [
    "y = $\\beta _0$ + $\\beta _1$*x + $\\epsilon$ \n",
    "\n",
    "$\\epsilon$ : noise/error"
   ]
  },
  {
   "cell_type": "markdown",
   "metadata": {},
   "source": [
    "Likelihood: \n",
    "\n",
    "L = $\\Pi _{i=1}$\n",
    "\n",
    "L($\\beta _0,\\beta _1$)"
   ]
  },
  {
   "cell_type": "code",
   "execution_count": null,
   "metadata": {
    "collapsed": true
   },
   "outputs": [],
   "source": []
  },
  {
   "cell_type": "markdown",
   "metadata": {},
   "source": [
    "# Notes from January 20th"
   ]
  },
  {
   "cell_type": "code",
   "execution_count": 4,
   "metadata": {
    "collapsed": false
   },
   "outputs": [
    {
     "data": {
      "image/png": "[encoded data removed]",
      "text/plain": [
       "<matplotlib.figure.Figure at 0x10aaebe10>"
      ]
     },
     "metadata": {},
     "output_type": "display_data"
    }
   ],
   "source": [
    "%matplotlib inline\n",
    "\n",
    "import matplotlib\n",
    "import numpy as np\n",
    "import matplotlib.pyplot as plt\n",
    "x = [1,2,3,4,5,6,7,8,9,10]\n",
    "y = [0,0,0,0,0,1,1,1,1,1]\n",
    "\n",
    "plt.plot(x,y)\n",
    "plt.title('P(x)')\n",
    "plt.ylabel('y_1')\n",
    "plt.xlabel('xy')\n",
    "plt.show()"
   ]
  },
  {
   "cell_type": "markdown",
   "metadata": {},
   "source": [
    "Data is fixed;\n",
    "\n",
    "\n",
    "Diff between python 3 and 2.7:\n",
    "    Using python 2.7: 3/2 = 1 \n",
    "    You need to input 1.0 for double precision\n",
    "    Not necessary for P3, but good habit\n",
    "    \n",
    "    \n",
    "P = 0.9\n",
    "r = random(0.0,1.0)\n",
    "if (r < P):\n",
    "    stuff\n",
    "else:\n",
    "    x_i\n",
    "    y_i\n",
    "M \n",
    "times\n",
    "\n",
    "*** See picture of board for rest of above notes\n",
    "    \n",
    "    "
   ]
  },
  {
   "cell_type": "markdown",
   "metadata": {},
   "source": [
    "$\\textbf{Another linear (Moving towards polynomial) regression schema}$"
   ]
  },
  {
   "cell_type": "markdown",
   "metadata": {},
   "source": [
    "y = $\\beta_0$ + $\\Sigma^P_{j=1}$ x$_j$ $\\beta_j$ = $\\overrightarrow{x}^T$$\\overrightarrow{\\beta}$\n",
    "\n",
    "where x$_j$ is an independent variable/features\n",
    "\n",
    "$\\overrightarrow{x}^T$ = column vector,\n",
    "$\\overrightarrow{\\beta}$ = column vector\n",
    "\n",
    "Hence we have to transpose x to matrix multiply them"
   ]
  },
  {
   "cell_type": "markdown",
   "metadata": {},
   "source": [
    "$\\overrightarrow{n}_i$ = (x$_{i1}$, x$_{i2}$, ... , x$_{iP}$) "
   ]
  },
  {
   "cell_type": "markdown",
   "metadata": {},
   "source": [
    "Residual Sum of Squares:"
   ]
  },
  {
   "cell_type": "markdown",
   "metadata": {},
   "source": [
    "RSS = $\\Sigma^{N}_{i=1}$ (y$_i$ - $\\overrightarrow{x}^T_i$)\n",
    "\n",
    "*** might be missing some part of notes"
   ]
  },
  {
   "cell_type": "markdown",
   "metadata": {},
   "source": [
    "$\\textit{The solution we'll use:}$\n",
    "\n",
    "$\\overrightarrow{\\beta}$ = ($\\bar{x_T}$$\\bar{x}$)$^{-1}$$\\bar{x^T}$$\\overrightarrow{y}$\n",
    "\n",
    "where \\overrightarrow{y} is also a column vector"
   ]
  },
  {
   "cell_type": "markdown",
   "metadata": {},
   "source": [
    "In reality/practice: we'll do this:\n",
    "\n",
    "$\\bar{x_T}$$\\bar{x}$$\\overrightarrow{\\beta}$ = $\\bar{x_T}$$\\overrightarrow{y}$"
   ]
  },
  {
   "cell_type": "markdown",
   "metadata": {},
   "source": [
    "Treat like:\n",
    "    Ax = b\n",
    "    "
   ]
  },
  {
   "cell_type": "markdown",
   "metadata": {},
   "source": [
    "$\\textit{LOOK INTO THIS PACKAGE:}$\n",
    "\n",
    "numpy.linalg.solve()"
   ]
  },
  {
   "cell_type": "markdown",
   "metadata": {},
   "source": [
    "$\\textbf{Polynomial Regression}$"
   ]
  },
  {
   "cell_type": "markdown",
   "metadata": {},
   "source": [
    "y = $\\beta_0$ + $\\beta_1$x + $\\beta_2$x$^2$ + ..."
   ]
  },
  {
   "cell_type": "markdown",
   "metadata": {},
   "source": [
    "Can do exact same matrix equation stuff as described above; for polynomial; MATRIX DON'T CARE"
   ]
  },
  {
   "cell_type": "markdown",
   "metadata": {},
   "source": [
    "RSS = $\\Sigma^{n}_{i=1}$  (y$_i$ - $\\beta_0$ - $\\beta_1$x - $\\beta_2$x$^2$)$^2$"
   ]
  },
  {
   "cell_type": "markdown",
   "metadata": {},
   "source": [
    "$\\textbf{Bias versus Variance Tradeoff}$"
   ]
  },
  {
   "cell_type": "markdown",
   "metadata": {},
   "source": [
    "$\\textit{Bias}$ is the errors due to too few parameters (underfitting)\n",
    "\n",
    "$\\textit{Variance}$ refers to amount by which $\\hat{f}$ would change if we estimated it using a different training set\n",
    "\n",
    "Cross validation: (how many free points should I keep)"
   ]
  },
  {
   "cell_type": "markdown",
   "metadata": {},
   "source": [
    "$\\textit{K-fold cross validation}$\n",
    "\n",
    "k = 0.10 $\\\\$\n",
    "\n",
    "(x,y) (x2,y2)                       .....                     (xN,yN)\n",
    "\n",
    "|--------|--------|--------|--------|--------|---------|---------|  (whole training set)\n",
    "\n",
    "Randomly divide all of the data into 10 parts\n",
    "\n",
    "(x1,y1) is your test set\n",
    "(x2,y2) through (xN,yN) are your new training set"
   ]
  },
  {
   "cell_type": "code",
   "execution_count": 10,
   "metadata": {
    "collapsed": false
   },
   "outputs": [
    {
     "data": {
      "image/png": "[encoded data removed]",
      "text/plain": [
       "<matplotlib.figure.Figure at 0x1128ee048>"
      ]
     },
     "metadata": {},
     "output_type": "display_data"
    }
   ],
   "source": [
    "%matplotlib inline\n",
    "\n",
    "import matplotlib\n",
    "\n",
    "x = [0.1,0.5,1,4,5,6,7,8,9,10]\n",
    "y = [1000,500,100,5,2,1,0.5,0.2,0.1,0.01]\n",
    "\n",
    "plt.plot(x,y)\n",
    "plt.ylabel('RSS')\n",
    "plt.ylabel('Number of model parameters')\n",
    "plt.show()"
   ]
  },
  {
   "cell_type": "markdown",
   "metadata": {},
   "source": [
    "*** Note that plot values x,y are super random just trying to recreate his drawings\n",
    "\n",
    "CV Error\n",
    "\n",
    "1. choose k-nearest neighbors classification\n",
    "\n",
    "2. k - in kernal density estimation; bandwidth\n",
    "\n",
    "3. order of polynomial\n",
    "\n",
    "\n",
    "around x(0-1) we are underfitting\n",
    "\n",
    "but past x>>1 (when the plot starts to rise again), we are overfitting"
   ]
  },
  {
   "cell_type": "markdown",
   "metadata": {},
   "source": [
    "Finds optimum numbers of parameters"
   ]
  },
  {
   "cell_type": "markdown",
   "metadata": {},
   "source": [
    "REAL TEST SET: we do not know y for real test set"
   ]
  },
  {
   "cell_type": "markdown",
   "metadata": {},
   "source": [
    "$\\textbf{Subset Selection}$"
   ]
  },
  {
   "cell_type": "markdown",
   "metadata": {},
   "source": [
    "What are the important features(independent variables)?\n",
    "\n",
    "1. best subset selection\n",
    "\n",
    "2. Forward stepwise selection\n",
    "\n",
    "3. Backward step wise selection"
   ]
  },
  {
   "cell_type": "code",
   "execution_count": 16,
   "metadata": {
    "collapsed": false
   },
   "outputs": [
    {
     "data": {
      "image/png": "[encoded data removed]",
      "text/plain": [
       "<matplotlib.figure.Figure at 0x111706b00>"
      ]
     },
     "metadata": {},
     "output_type": "display_data"
    }
   ],
   "source": [
    "plt.plot(x,y)\n",
    "plt.plot(1,200,'ro')\n",
    "plt.plot(1,400,'ro')\n",
    "plt.plot(1,600,'ro')\n",
    "plt.plot(2,200,'bo')\n",
    "plt.plot(2,400,'bo')\n",
    "plt.plot(2,600,'bo')\n",
    "plt.ylabel('RSS')\n",
    "plt.xlabel('subset')\n",
    "plt.xlim(0,6)\n",
    "plt.show()\n"
   ]
  },
  {
   "cell_type": "markdown",
   "metadata": {},
   "source": [
    "y = f(a,b,c)\n",
    "\n",
    "y = f(a); y = f(b); y = f(c)\n",
    "\n",
    "a,b; b,c; c,a"
   ]
  },
  {
   "cell_type": "code",
   "execution_count": null,
   "metadata": {
    "collapsed": true
   },
   "outputs": [],
   "source": []
  }
 ],
 "metadata": {
  "anaconda-cloud": {},
  "kernelspec": {
   "display_name": "Python [Root]",
   "language": "python",
   "name": "Python [Root]"
  },
  "language_info": {
   "codemirror_mode": {
    "name": "ipython",
    "version": 3
   },
   "file_extension": ".py",
   "mimetype": "text/x-python",
   "name": "python",
   "nbconvert_exporter": "python",
   "pygments_lexer": "ipython3",
   "version": "3.5.2"
  }
 },
 "nbformat": 4,
 "nbformat_minor": 0
}
