{
 "cells": [
  {
   "cell_type": "markdown",
   "metadata": {},
   "source": [
    "Notes from January 7, 2017"
   ]
  },
  {
   "cell_type": "code",
   "execution_count": null,
   "metadata": {
    "collapsed": true
   },
   "outputs": [],
   "source": [
    "#Email HPC club to get HYAK Account\n",
    "\n",
    "# Once you have a hyak account log in:\n",
    "ssh hyak.washington.edu\n",
    "\n",
    "# You need to ask hyak for a session:\n",
    "qsub -I -q build -l walltime=3:00:00  #give yourself enough time; default is 0.5 hour\n",
    "\n",
    "module avail  # tells you what is available \n",
    "module load anaconda_2.4\n",
    "which python\n",
    "\n",
    "# Then you can continue to do whatever python stuff you need to "
   ]
  },
  {
   "cell_type": "markdown",
   "metadata": {},
   "source": [
    "What is Machine Learning?\n",
    "- Not really about machines, not really about learning\n",
    "\n",
    "- Fancy word for \"curve fitting\"\n",
    "\n",
    "Curve fitting:\n",
    "- two types: \"unsupervised\" and \"supervised\"\n",
    "- We'll start with regression, but basically just trying to predict future outcomes\n",
    "\n",
    "Supervised: (Learning)\n",
    "- Training Set Data\n",
    "    - Use this data to create function f\n",
    "- Test Set Data\n",
    "    - Apply function f to tested data\n",
    "- Examples:\n",
    "    - Regression: f takes on continuous values\n",
    "        - i.e. voltage proportional to whatever gives you f\n",
    "        - y = f(x)\n",
    "        - y is the continuous function (dependent variable), x is the indep variable/attribute/feature\n",
    "    - Classification: \n",
    "\n",
    "Unsupervised:\n",
    "- Looking for structure in the data\n",
    "    - Clustering, etc\n",
    "- Often similar to initialize\n"
   ]
  },
  {
   "cell_type": "markdown",
   "metadata": {},
   "source": [
    "$\\textbf{Today we'll look at linear regression:}$\n",
    "- Note: we call these \"linear models\" \n",
    "    - but does not imply underlying law like in physics\n",
    "    - it is a FIT to the data\n",
    "    \n",
    "Linear regression: (or Linear Model)\n",
    "- y_i, given data (training set data)\n",
    "- f, if continuous (regression)\n",
    "- f, if discrete (classification)\n",
    " \n",
    "$\\textbf{Our learning part:}$\n",
    "\n",
    "Given: \n",
    "- y_i, response variable\n",
    "- \\textbf{x_i} = [x_i1, x_i2,...,x_ip]\n",
    "- p, features/attributes/independent variable\n",
    "\n",
    "Find approximation for f if:\n",
    "- y_i = f(x_i)\n",
    "* this is different from an IDEAL f, which will usually be denoted in someway differently from approx(f)\n",
    "\n",
    "So \\textbf{x_i} is our training set data\n",
    "\n",
    "Now we want to predist y for test set data using calculated f\n",
    "- y_j = f(x_j)\n",
    "\n",
    "So the simplest thing we can assume is that\n",
    "- y = $\\beta_{0}$ + $\\Sigma^{P}$$_{j=1}$ $x_j$*$\\beta_j$ = $f(x_1,x_2,...,x_P)$\n",
    "- y = $\\textbf{x}^T$ * ${\\textbf{ \\beta }}$\n",
    "    = [horizontal x vector][vertical beta vector]\n",
    "\n",
    "$y = mc + c$ \n",
    "- $m$ = slope\n",
    "- $c$ = intercept\n",
    "\n",
    "\n"
   ]
  },
  {
   "cell_type": "markdown",
   "metadata": {},
   "source": [
    "$\\textbf{How much can you trust your data? Is it believable?}$\n",
    "- We want to estimate how good our function is\n",
    "\n",
    "So let's start with an x set that is one value\n",
    "- Note even a vector, just a scalar\n",
    "- $\\textbf{x}$ = $x_{i}$ \n",
    "\n",
    "We begin with:\n",
    "- $y$ = $\\beta_0$ + $\\beta_{1}$*$x$ + $\\epsilon$\n",
    "- $\\beta_0$ = intercept\n",
    "- $\\beta_1$ = slope\n",
    "- $x$ = scalar, one dependent variable\n",
    "- $\\epsilon$ = noise/error, \n",
    "    - homoscedastic:\n",
    "        - if $\\epsilon$ is independent of x, variance of gaussian is the same regardless of x\n",
    "        - often assumed initially though not always true\n",
    "    - heteroscedastic:\n",
    "        if dependent on x\n",
    "        \n",
    "So we know: Training set \n",
    "- ($x_1$,$y_1$)\n",
    "- ($x_2$,$y_2$)\n",
    "- ($x_3$,$y_3$)\n",
    "\n",
    "Residual:\n",
    "- the residual will tell you how good your fit is\n",
    "    - $e_i$ = $y_i$ - $\\textbf{y_i}$\n",
    "        - $y_i$ = from training set above\n",
    "        - $\\textbf{y_i}$ = the y you get after using the function\n",
    "\n",
    "\n",
    "Residual Sum of Square (RSS) \n",
    "- $\\Phi$ $= RSS =$ $\\Sigma$$^N$$_{i=1}$($y_i$ - $\\beta_0$*$x_i$)$^2$\n",
    "\n",
    "Least two squares approach:\n",
    "- Choose $\\beta_0$ and $beta_1$ to minimize RSS\n",
    "\n",
    "$\\delta$$\\Phi$ / ($\\delta$$\\beta$) = "
   ]
  },
  {
   "cell_type": "markdown",
   "metadata": {},
   "source": [
    "Next time: \n",
    "- Likelihood\n",
    "- Polynomial Regression"
   ]
  },
  {
   "cell_type": "code",
   "execution_count": 1,
   "metadata": {
    "collapsed": true
   },
   "outputs": [],
   "source": [
    "# NOTE: I finished the above notes on paper. See little binder"
   ]
  },
  {
   "cell_type": "markdown",
   "metadata": {},
   "source": [
    "Notes from January 13, 2017"
   ]
  },
  {
   "cell_type": "markdown",
   "metadata": {},
   "source": [
    "y = $\\beta _0$ + $\\beta _1$*x + $\\epsilon$ \n",
    "\n",
    "$\\epsilon$ : noise/error"
   ]
  },
  {
   "cell_type": "markdown",
   "metadata": {},
   "source": [
    "Likelihood: \n",
    "\n",
    "L = $\\Pi _{i=1}$\n",
    "\n",
    "L($\\beta _0,\\beta _1$)"
   ]
  },
  {
   "cell_type": "code",
   "execution_count": null,
   "metadata": {
    "collapsed": true
   },
   "outputs": [],
   "source": []
  }
 ],
 "metadata": {
  "anaconda-cloud": {},
  "kernelspec": {
   "display_name": "Python [Root]",
   "language": "python",
   "name": "Python [Root]"
  },
  "language_info": {
   "codemirror_mode": {
    "name": "ipython",
    "version": 3
   },
   "file_extension": ".py",
   "mimetype": "text/x-python",
   "name": "python",
   "nbconvert_exporter": "python",
   "pygments_lexer": "ipython3",
   "version": "3.5.2"
  }
 },
 "nbformat": 4,
 "nbformat_minor": 0
}
