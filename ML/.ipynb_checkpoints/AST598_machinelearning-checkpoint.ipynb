{
 "cells": [
  {
   "cell_type": "markdown",
   "metadata": {},
   "source": [
    "Notes from January 7, 2017"
   ]
  },
  {
   "cell_type": "code",
   "execution_count": null,
   "metadata": {
    "collapsed": true
   },
   "outputs": [],
   "source": [
    "#Email HPC club to get HYAK Account\n",
    "\n",
    "# Once you have a hyak account log in:\n",
    "ssh hyak.washington.edu\n",
    "\n",
    "# You need to ask hyak for a session:\n",
    "qsub -I -q build -l walltime=3:00:00  #give yourself enough time; default is 0.5 hour\n",
    "\n",
    "module avail  # tells you what is available \n",
    "module load anaconda_2.4\n",
    "which python\n",
    "\n",
    "# Then you can continue to do whatever python stuff you need to "
   ]
  },
  {
   "cell_type": "markdown",
   "metadata": {},
   "source": [
    "What is Machine Learning?\n",
    "- Not really about machines, not really about learning\n",
    "\n",
    "- Fancy word for \"curve fitting\"\n",
    "\n",
    "Curve fitting:\n",
    "- two types: \"unsupervised\" and \"supervised\"\n",
    "- We'll start with regression, but basically just trying to predict future outcomes\n",
    "\n",
    "Supervised: (Learning)\n",
    "- Training Set Data\n",
    "    - Use this data to create function f\n",
    "- Test Set Data\n",
    "    - Apply function f to tested data\n",
    "- Examples:\n",
    "    - Regression: f takes on continuous values\n",
    "        - i.e. voltage proportional to whatever gives you f\n",
    "        - y = f(x)\n",
    "        - y is the continuous function (dependent variable), x is the indep variable/attribute/feature\n",
    "    - Classification: \n",
    "\n",
    "Unsupervised:\n",
    "- Looking for structure in the data\n",
    "    - Clustering, etc\n",
    "- Often similar to initialize\n"
   ]
  },
  {
   "cell_type": "markdown",
   "metadata": {},
   "source": [
    "$\\textbf{Today we'll look at linear regression:}$\n",
    "- Note: we call these \"linear models\" \n",
    "    - but does not imply underlying law like in physics\n",
    "    - it is a FIT to the data\n",
    "    \n",
    "Linear regression: (or Linear Model)\n",
    "- y_i, given data (training set data)\n",
    "- f, if continuous (regression)\n",
    "- f, if discrete (classification)\n",
    " \n",
    "$\\textbf{Our learning part:}$\n",
    "\n",
    "Given: \n",
    "- y_i, response variable\n",
    "- \\textbf{x_i} = [x_i1, x_i2,...,x_ip]\n",
    "- p, features/attributes/independent variable\n",
    "\n",
    "Find approximation for f if:\n",
    "- y_i = f(x_i)\n",
    "* this is different from an IDEAL f, which will usually be denoted in someway differently from approx(f)\n",
    "\n",
    "So \\textbf{x_i} is our training set data\n",
    "\n",
    "Now we want to predist y for test set data using calculated f\n",
    "- y_j = f(x_j)\n",
    "\n",
    "So the simplest thing we can assume is that\n",
    "- y = $\\beta_{0}$ + $\\Sigma^{P}$$_{j=1}$ $x_j$*$\\beta_j$ = $f(x_1,x_2,...,x_P)$\n",
    "- y = $\\textbf{x}^T$ * ${\\textbf{ \\beta }}$\n",
    "    = [horizontal x vector][vertical beta vector]\n",
    "\n",
    "$y = mc + c$ \n",
    "- $m$ = slope\n",
    "- $c$ = intercept\n",
    "\n",
    "\n"
   ]
  },
  {
   "cell_type": "markdown",
   "metadata": {},
   "source": [
    "$\\textbf{How much can you trust your data? Is it believable?}$\n",
    "- We want to estimate how good our function is\n",
    "\n",
    "So let's start with an x set that is one value\n",
    "- Note even a vector, just a scalar\n",
    "- $\\textbf{x}$ = $x_{i}$ \n",
    "\n",
    "We begin with:\n",
    "- $y$ = $\\beta_0$ + $\\beta_{1}$*$x$ + $\\epsilon$\n",
    "- $\\beta_0$ = intercept\n",
    "- $\\beta_1$ = slope\n",
    "- $x$ = scalar, one dependent variable\n",
    "- $\\epsilon$ = noise/error, \n",
    "    - homoscedastic:\n",
    "        - if $\\epsilon$ is independent of x, variance of gaussian is the same regardless of x\n",
    "        - often assumed initially though not always true\n",
    "    - heteroscedastic:\n",
    "        if dependent on x\n",
    "        \n",
    "So we know: Training set \n",
    "- ($x_1$,$y_1$)\n",
    "- ($x_2$,$y_2$)\n",
    "- ($x_3$,$y_3$)\n",
    "\n",
    "Residual:\n",
    "- the residual will tell you how good your fit is\n",
    "    - $e_i$ = $y_i$ - $\\textbf{y_i}$\n",
    "        - $y_i$ = from training set above\n",
    "        - $\\textbf{y_i}$ = the y you get after using the function\n",
    "\n",
    "\n",
    "Residual Sum of Square (RSS) \n",
    "- $\\Phi$ $= RSS =$ $\\Sigma$$^N$$_{i=1}$($y_i$ - $\\beta_0$*$x_i$)$^2$\n",
    "\n",
    "Least two squares approach:\n",
    "- Choose $\\beta_0$ and $beta_1$ to minimize RSS\n",
    "\n",
    "$\\delta$$\\Phi$ / ($\\delta$$\\beta$) = "
   ]
  },
  {
   "cell_type": "markdown",
   "metadata": {},
   "source": [
    "Next time: \n",
    "- Likelihood\n",
    "- Polynomial Regression"
   ]
  },
  {
   "cell_type": "code",
   "execution_count": 1,
   "metadata": {
    "collapsed": true
   },
   "outputs": [],
   "source": [
    "# NOTE: I finished the above notes on paper. See little binder"
   ]
  },
  {
   "cell_type": "markdown",
   "metadata": {},
   "source": [
    "Notes from January 13, 2017"
   ]
  },
  {
   "cell_type": "markdown",
   "metadata": {},
   "source": [
    "y = $\\beta _0$ + $\\beta _1$*x + $\\epsilon$ \n",
    "\n",
    "$\\epsilon$ : noise/error"
   ]
  },
  {
   "cell_type": "markdown",
   "metadata": {},
   "source": [
    "Likelihood: \n",
    "\n",
    "L = $\\Pi _{i=1}$\n",
    "\n",
    "L($\\beta _0,\\beta _1$)"
   ]
  },
  {
   "cell_type": "code",
   "execution_count": null,
   "metadata": {
    "collapsed": true
   },
   "outputs": [],
   "source": []
  },
  {
   "cell_type": "markdown",
   "metadata": {},
   "source": [
    "# Notes from January 20th"
   ]
  },
  {
   "cell_type": "code",
   "execution_count": 4,
   "metadata": {
    "collapsed": false
   },
   "outputs": [
    {
     "data": {
      "image/png": "[encoded data removed]",
      "text/plain": [
       "<matplotlib.figure.Figure at 0x10aaebe10>"
      ]
     },
     "metadata": {},
     "output_type": "display_data"
    }
   ],
   "source": [
    "%matplotlib inline\n",
    "\n",
    "import matplotlib\n",
    "import numpy as np\n",
    "import matplotlib.pyplot as plt\n",
    "x = [1,2,3,4,5,6,7,8,9,10]\n",
    "y = [0,0,0,0,0,1,1,1,1,1]\n",
    "\n",
    "plt.plot(x,y)\n",
    "plt.title('P(x)')\n",
    "plt.ylabel('y_1')\n",
    "plt.xlabel('xy')\n",
    "plt.show()"
   ]
  },
  {
   "cell_type": "markdown",
   "metadata": {},
   "source": [
    "Data is fixed;\n",
    "\n",
    "\n",
    "Diff between python 3 and 2.7:\n",
    "    Using python 2.7: 3/2 = 1 \n",
    "    You need to input 1.0 for double precision\n",
    "    Not necessary for P3, but good habit\n",
    "    \n",
    "    \n",
    "P = 0.9\n",
    "r = random(0.0,1.0)\n",
    "if (r < P):\n",
    "    stuff\n",
    "else:\n",
    "    x_i\n",
    "    y_i\n",
    "M \n",
    "times\n",
    "\n",
    "*** See picture of board for rest of above notes\n",
    "    \n",
    "    "
   ]
  },
  {
   "cell_type": "markdown",
   "metadata": {},
   "source": [
    "$\\textbf{Another linear (Moving towards polynomial) regression schema}$"
   ]
  },
  {
   "cell_type": "markdown",
   "metadata": {},
   "source": [
    "y = $\\beta_0$ + $\\Sigma^P_{j=1}$ x$_j$ $\\beta_j$ = $\\overrightarrow{x}^T$$\\overrightarrow{\\beta}$\n",
    "\n",
    "where x$_j$ is an independent variable/features\n",
    "\n",
    "$\\overrightarrow{x}^T$ = column vector,\n",
    "$\\overrightarrow{\\beta}$ = column vector\n",
    "\n",
    "Hence we have to transpose x to matrix multiply them"
   ]
  },
  {
   "cell_type": "markdown",
   "metadata": {},
   "source": [
    "$\\overrightarrow{n}_i$ = (x$_{i1}$, x$_{i2}$, ... , x$_{iP}$) "
   ]
  },
  {
   "cell_type": "markdown",
   "metadata": {},
   "source": [
    "Residual Sum of Squares:"
   ]
  },
  {
   "cell_type": "markdown",
   "metadata": {},
   "source": [
    "RSS = $\\Sigma^{N}_{i=1}$ (y$_i$ - $\\overrightarrow{x}^T_i$)\n",
    "\n",
    "*** might be missing some part of notes"
   ]
  },
  {
   "cell_type": "markdown",
   "metadata": {},
   "source": [
    "$\\textit{The solution we'll use:}$\n",
    "\n",
    "$\\overrightarrow{\\beta}$ = ($\\bar{x_T}$$\\bar{x}$)$^{-1}$$\\bar{x^T}$$\\overrightarrow{y}$\n",
    "\n",
    "where \\overrightarrow{y} is also a column vector"
   ]
  },
  {
   "cell_type": "markdown",
   "metadata": {},
   "source": [
    "In reality/practice: we'll do this:\n",
    "\n",
    "$\\bar{x_T}$$\\bar{x}$$\\overrightarrow{\\beta}$ = $\\bar{x_T}$$\\overrightarrow{y}$"
   ]
  },
  {
   "cell_type": "markdown",
   "metadata": {},
   "source": [
    "Treat like:\n",
    "    Ax = b\n",
    "    "
   ]
  },
  {
   "cell_type": "markdown",
   "metadata": {},
   "source": [
    "$\\textit{LOOK INTO THIS PACKAGE:}$\n",
    "\n",
    "numpy.linalg.solve()"
   ]
  },
  {
   "cell_type": "markdown",
   "metadata": {},
   "source": [
    "$\\textbf{Polynomial Regression}$"
   ]
  },
  {
   "cell_type": "markdown",
   "metadata": {},
   "source": [
    "y = $\\beta_0$ + $\\beta_1$x + $\\beta_2$x$^2$ + ..."
   ]
  },
  {
   "cell_type": "markdown",
   "metadata": {},
   "source": [
    "Can do exact same matrix equation stuff as described above; for polynomial; MATRIX DON'T CARE"
   ]
  },
  {
   "cell_type": "markdown",
   "metadata": {},
   "source": [
    "RSS = $\\Sigma^{n}_{i=1}$  (y$_i$ - $\\beta_0$ - $\\beta_1$x - $\\beta_2$x$^2$)$^2$"
   ]
  },
  {
   "cell_type": "markdown",
   "metadata": {},
   "source": [
    "$\\textbf{Bias versus Variance Tradeoff}$"
   ]
  },
  {
   "cell_type": "markdown",
   "metadata": {},
   "source": [
    "$\\textit{Bias}$ is the errors due to too few parameters (underfitting)\n",
    "\n",
    "$\\textit{Variance}$ refers to amount by which $\\hat{f}$ would change if we estimated it using a different training set\n",
    "\n",
    "Cross validation: (how many free points should I keep)"
   ]
  },
  {
   "cell_type": "markdown",
   "metadata": {},
   "source": [
    "$\\textit{K-fold cross validation}$\n",
    "\n",
    "k = 0.10 $\\\\$\n",
    "\n",
    "(x,y) (x2,y2)                       .....                     (xN,yN)\n",
    "\n",
    "|--------|--------|--------|--------|--------|---------|---------|  (whole training set)\n",
    "\n",
    "Randomly divide all of the data into 10 parts\n",
    "\n",
    "(x1,y1) is your test set\n",
    "(x2,y2) through (xN,yN) are your new training set"
   ]
  },
  {
   "cell_type": "code",
   "execution_count": 10,
   "metadata": {
    "collapsed": false
   },
   "outputs": [
    {
     "data": {
      "image/png": "[encoded data removed]",
      "text/plain": [
       "<matplotlib.figure.Figure at 0x1128ee048>"
      ]
     },
     "metadata": {},
     "output_type": "display_data"
    }
   ],
   "source": [
    "%matplotlib inline\n",
    "\n",
    "import matplotlib\n",
    "\n",
    "x = [0.1,0.5,1,4,5,6,7,8,9,10]\n",
    "y = [1000,500,100,5,2,1,0.5,0.2,0.1,0.01]\n",
    "\n",
    "plt.plot(x,y)\n",
    "plt.ylabel('RSS')\n",
    "plt.ylabel('Number of model parameters')\n",
    "plt.show()"
   ]
  },
  {
   "cell_type": "markdown",
   "metadata": {},
   "source": [
    "*** Note that plot values x,y are super random just trying to recreate his drawings\n",
    "\n",
    "CV Error\n",
    "\n",
    "1. choose k-nearest neighbors classification\n",
    "\n",
    "2. k - in kernal density estimation; bandwidth\n",
    "\n",
    "3. order of polynomial\n",
    "\n",
    "\n",
    "around x(0-1) we are underfitting\n",
    "\n",
    "but past x>>1 (when the plot starts to rise again), we are overfitting"
   ]
  },
  {
   "cell_type": "markdown",
   "metadata": {},
   "source": [
    "Finds optimum numbers of parameters"
   ]
  },
  {
   "cell_type": "markdown",
   "metadata": {},
   "source": [
    "REAL TEST SET: we do not know y for real test set"
   ]
  },
  {
   "cell_type": "markdown",
   "metadata": {},
   "source": [
    "$\\textbf{Subset Selection}$"
   ]
  },
  {
   "cell_type": "markdown",
   "metadata": {},
   "source": [
    "What are the important features(independent variables)?\n",
    "\n",
    "1. best subset selection\n",
    "\n",
    "2. Forward stepwise selection\n",
    "\n",
    "3. Backward step wise selection"
   ]
  },
  {
   "cell_type": "code",
   "execution_count": 16,
   "metadata": {
    "collapsed": false
   },
   "outputs": [
    {
     "data": {
      "image/png": "[encoded data removed]",
      "text/plain": [
       "<matplotlib.figure.Figure at 0x111706b00>"
      ]
     },
     "metadata": {},
     "output_type": "display_data"
    }
   ],
   "source": [
    "plt.plot(x,y)\n",
    "plt.plot(1,200,'ro')\n",
    "plt.plot(1,400,'ro')\n",
    "plt.plot(1,600,'ro')\n",
    "plt.plot(2,200,'bo')\n",
    "plt.plot(2,400,'bo')\n",
    "plt.plot(2,600,'bo')\n",
    "plt.ylabel('RSS')\n",
    "plt.xlabel('subset')\n",
    "plt.xlim(0,6)\n",
    "plt.show()\n"
   ]
  },
  {
   "cell_type": "markdown",
   "metadata": {},
   "source": [
    "y = f(a,b,c)\n",
    "\n",
    "y = f(a); y = f(b); y = f(c)\n",
    "\n",
    "a,b; b,c; c,a"
   ]
  },
  {
   "cell_type": "markdown",
   "metadata": {
    "collapsed": true
   },
   "source": [
    "# Notes from January 27 "
   ]
  },
  {
   "cell_type": "code",
   "execution_count": 4,
   "metadata": {
    "collapsed": false
   },
   "outputs": [
    {
     "data": {
      "text/plain": [
       "(array([ 1.,  1.,  0.,  0.,  1.,  3.,  1.,  1.,  0.,  1.]),\n",
       " array([  1. ,   2.2,   3.4,   4.6,   5.8,   7. ,   8.2,   9.4,  10.6,\n",
       "         11.8,  13. ]),\n",
       " <a list of 10 Patch objects>)"
      ]
     },
     "execution_count": 4,
     "metadata": {},
     "output_type": "execute_result"
    },
    {
     "data": {
      "image/png": "[encoded data removed]",
      "text/plain": [
       "<matplotlib.figure.Figure at 0x106167d30>"
      ]
     },
     "metadata": {},
     "output_type": "display_data"
    }
   ],
   "source": [
    "import matplotlib.pyplot as plt\n",
    "import numpy as np\n",
    "%matplotlib inline\n",
    "x = np.linspace(0,10,9)\n",
    "y = [1,3,6,7,8,8,9,10,13]\n",
    "\n",
    "plt.plot(x,y,marker='o')\n",
    "plt.hist(y)"
   ]
  },
  {
   "cell_type": "markdown",
   "metadata": {},
   "source": [
    "$\\textbf{Kernel Density Estimation}$\n",
    "\n",
    "So our goal is to find a function that matches a line without an initial function.\n",
    "\n",
    "\"Bandwidth\":\n",
    "h = bin size (width of histogram bin; not really specified above, just as example)"
   ]
  },
  {
   "cell_type": "code",
   "execution_count": 5,
   "metadata": {
    "collapsed": false
   },
   "outputs": [
    {
     "data": {
      "text/plain": [
       "[<matplotlib.lines.Line2D at 0x109520ac8>]"
      ]
     },
     "execution_count": 5,
     "metadata": {},
     "output_type": "execute_result"
    },
    {
     "data": {
      "image/png": "[encoded data removed]",
      "text/plain": [
       "<matplotlib.figure.Figure at 0x1048c21d0>"
      ]
     },
     "metadata": {},
     "output_type": "display_data"
    }
   ],
   "source": [
    "y = np.random.normal(x)\n",
    "plt.plot(x,y)"
   ]
  },
  {
   "cell_type": "markdown",
   "metadata": {},
   "source": [
    "Get a probability density function that isn't from directly doing histograms and binning.\n",
    "\n",
    "Instead we do these little gaussians around each point and determine probability that way."
   ]
  },
  {
   "cell_type": "markdown",
   "metadata": {},
   "source": [
    "n = number of total points\n",
    "h = bandwidth\n",
    "d = dimensions\n",
    "\n",
    "f(x) = (1/N) $\\Sigma^N_{i=1}$ K$_h$ (|| $\\overrightarrow{x}$ - $\\overrightarrow{x}_i$ ||)\n",
    "\n",
    "|| $\\overrightarrow{x}$ - $\\overrightarrow{x}_i$ || = $\\sqrt{(x_1 - x_{i1})^2 + (x_2 - x_{i2})^2 + (x_3 - x_{i3})^2 + (x_4 - x_{i4})^2}$\n",
    "\n",
    "K$_h$(|| $\\overrightarrow{x}$ - $\\overrightarrow{x}_i$ ||) =  $(\\frac{1}{\\sqrt{2\\pi}h})$$^d$ $e^{\\frac{-|| \\overrightarrow{x} - \\overrightarrow{x}_i ||^2}{(2h^2)}}$"
   ]
  },
  {
   "cell_type": "markdown",
   "metadata": {},
   "source": [
    "How do we choose the bandwidth:\n",
    "\n",
    "If its too close to 0, gaussian gets narrower and narrower: becomes delta function.\n",
    "\n",
    "If it's too broad, density is too affected by far points.\n",
    "\n",
    "Gotta goldilocks it!\n",
    "\n",
    "Ways to select it:\n",
    "$\\bullet \\textit{Use cross validation.}$\n",
    "$\\bullet \\textit{Trial and error}$"
   ]
  },
  {
   "cell_type": "markdown",
   "metadata": {},
   "source": [
    "Just a latex example ${\\sum\\limits_{i=1}^{n}\\frac{cf_n}{(1+i)^n}}$"
   ]
  },
  {
   "cell_type": "markdown",
   "metadata": {},
   "source": [
    "$\\textbf{Kernel Density Estimation and Classification}$\n",
    "\n",
    "Training set of quasars (1 million): \n",
    "$\\overrightarrow{x}$ = ($x_1, x_2, x_3, x_4$)\n",
    "\n",
    "Training set of stars (10 million):\n",
    "$\\overrightarrow{x}$ = ($x_1, x_2, x_3, x_4$)\n",
    "\n",
    "what's the prob of being a quasar? P$_{quasar}$($\\overrightarrow{x}$)\n",
    "\n",
    "what's the prob of being a quasar? P$_{star}$($\\overrightarrow{x}$)\n",
    "\n",
    "Test: 40 million\n",
    "\n",
    "Imagine someone had already done this straight by hand (the hard way);\n",
    "but we want to teach the computer to do this. (using the above equations)\n"
   ]
  },
  {
   "cell_type": "markdown",
   "metadata": {},
   "source": [
    "Bayesian way of rewriting probabilities:\n",
    "\n",
    "P$_{quasar}$($\\overrightarrow{x}$) => P($\\overrightarrow{x}$ | quasar)\n",
    "\n",
    "P$_{star}$($\\overrightarrow{x}$) => P($\\overrightarrow{x}$ | star)\n",
    "\n"
   ]
  },
  {
   "cell_type": "markdown",
   "metadata": {},
   "source": [
    "Probability that it is a star:\n",
    "\n",
    "P(star|$\\overrightarrow{x}$); $\\overrightarrow{x}$ = New test object\n",
    "\n",
    "P(star|$\\overrightarrow{x}$) = $\\frac{P(star)P(\\overrightarrow{x} | star)}{P(star)P(\\overrightarrow{x}|star) + P(quasar)P(\\overrightarrow{x}|quasar)}$\n",
    "\n",
    "in numerator: \n",
    "\n",
    "$P(star) = prior$; based on some earlier work, (looked at a bunch of stars) they found that probability was .85 (for example); this is the prior (doesn't take into account any of the x values that you are examining)\n",
    "\n",
    "P($\\overrightarrow{x}|star); \\overrightarrow{x} = likelihood;\\ star = from\\ KDI$; \n",
    "\n",
    "\n",
    "P(quasar|$\\overrightarrow{x}$) = $\\frac{P(quasar)P(\\overrightarrow{x} | quasar)}{P(star)P(\\overrightarrow{x}|star) + P(quasar)P(\\overrightarrow{x}|quasar)}$\n",
    "\n",
    "storage ~ L$^d$\n",
    "\n",
    "*** Basically these equations balance the old stuff with the new; basically use with caution. \n",
    "Make sure you have reliable priors\n"
   ]
  },
  {
   "cell_type": "markdown",
   "metadata": {},
   "source": [
    "$\\textbf{Naive Bayesian}$\n",
    "Factorize your distribution: (calculate pieces seperately)\n",
    "    \n",
    "$P(\\overrightarrow{x} | star) = P(\\overrightarrow{x_1} | star)P(\\overrightarrow{x_2} | star)P(\\overrightarrow{x_3} | star)P(\\overrightarrow{x_4} | star)$\n",
    "\n",
    "Only relevant if you are using 10/20 dimensionaly things (basically really big things!!!)"
   ]
  },
  {
   "cell_type": "markdown",
   "metadata": {},
   "source": [
    "P($c1|\\overrightarrow{x}$) = N P(c1) P($\\overrightarrow{x}|c1$)\n",
    "\n",
    "$\\bullet$ P(c1) = prior\n",
    "\n",
    "$\\bullet$ P($\\overrightarrow{x}|c1$) = likelihood\n",
    "\n",
    "P($c2|\\overrightarrow{x}$) = N P(c2) P($\\overrightarrow{x}|c2$)\n",
    "\n",
    "*** Sum of these two probs is 1\n",
    "\n",
    "P($c1|\\overrightarrow{x}$) + P($c2|\\overrightarrow{x}$) = N[P(c1) P($\\overrightarrow{x}|c1$) + P(c2) P($\\overrightarrow{x}|c2$)] = $\\textbf{1}$"
   ]
  },
  {
   "cell_type": "markdown",
   "metadata": {},
   "source": [
    "So how do we determine the distance we want to choose: how to vary things (i.e. is this closer to a star or quasar)\n",
    "\n",
    "x_1 = km\n",
    "x_2 = velocity\n",
    "\n",
    "$|| \\overrightarrow{x} - \\overrightarrow{x_i} || = 10(\\overrightarrow{x_1} - \\overrightarrow{x_{i1}})^2 + 2(\\overrightarrow{x_2} - \\overrightarrow{x_{i2}})^2$"
   ]
  },
  {
   "cell_type": "markdown",
   "metadata": {},
   "source": [
    "Defining a NEW: $\\textbf{k}$"
   ]
  },
  {
   "cell_type": "markdown",
   "metadata": {},
   "source": [
    "$\\textbf{k - Nearest Neighbor Classification}$\n",
    "\n",
    "(k-odd use majority rule)"
   ]
  },
  {
   "cell_type": "markdown",
   "metadata": {},
   "source": [
    "[$\\overrightarrow{x}$,\n",
    "\n",
    "See these details in written notes"
   ]
  },
  {
   "cell_type": "markdown",
   "metadata": {},
   "source": [
    "f($\\overrightarrow{x}$) = same class as class of nearest neighbor of $\\overrightarrow{x}$ in the training set\n",
    "\n",
    "In general, this is a good neighbor finding algorithm; More complex things are available; easy to parallelize\n",
    "\n",
    "*** This is for the k=1 nearest neighbor (so the first nearest neighbor)"
   ]
  },
  {
   "cell_type": "markdown",
   "metadata": {},
   "source": [
    "You can also do this for k-nearest neighbor \n",
    "\n",
    "I.e. choose k = 5\n",
    "\n",
    "get 5 nearest neighbors and if 3 are quasars and 2 are stars, we label this a quasar\n",
    "\n"
   ]
  },
  {
   "cell_type": "markdown",
   "metadata": {},
   "source": [
    "What is a good value of k?\n",
    "\n",
    "Choose k using 5-fold cross validation\n",
    "\n",
    "Use cross validation (like we did last time, get means and stuff and figure out the best one)"
   ]
  },
  {
   "cell_type": "markdown",
   "metadata": {
    "collapsed": true
   },
   "source": [
    "# Notes from February 10"
   ]
  },
  {
   "cell_type": "markdown",
   "metadata": {},
   "source": [
    "* Missing notes from last week"
   ]
  },
  {
   "cell_type": "markdown",
   "metadata": {},
   "source": [
    "CV Error = if classification is correct then w = 0; else w = 1\n",
    "\n",
    "$\\Sigma$ ($\\hat{y}_i$ - $y_i$)$^2$\n",
    "\n",
    "* $y_i$: actual\n",
    "\n",
    "* $\\hat{y}_i$: predicted from your model\n",
    "\n",
    "Sidenote: 3 nearest neighbors are all distinct\n",
    "\n"
   ]
  },
  {
   "cell_type": "markdown",
   "metadata": {},
   "source": [
    "$\\textbf{A Brief Reminder of Linear Algebra}$\n",
    "* Go look over your Lin Algebra Textbook"
   ]
  },
  {
   "cell_type": "markdown",
   "metadata": {},
   "source": [
    "A$^T$ : Transpose (interchange the rows & columns)\n",
    "\n",
    "(AB)$^T$ = B$^T$ A$^T$\n",
    "\n",
    "Identity Matrix Definition:\n",
    "A$^{-1}$ = \\textbf{I} = \\begin{bmatrix}\n",
    "    1 & 0 & 0 & \\dots  & 0 \\\\\n",
    "    0 & 1 & 0 & \\dots  & 0 \\\\\n",
    "    \\vdots & \\vdots & \\vdots & \\ddots & \\vdots \\\\\n",
    "    0 & 0 & 0 & \\dots  & 1\n",
    "\\end{bmatrix}\n",
    "\n",
    "\n",
    "(AB)$^-1$ = B^-1 A^-1\n",
    "(A^T)^-1 = (A^-1)^T"
   ]
  },
  {
   "cell_type": "markdown",
   "metadata": {},
   "source": [
    "Bishop : Pattern Recognition and Machine Learning\n",
    "    \n",
    "(delta x/delta arrow{a})_i = delta x / delta a_i\n",
    "\n",
    "(delta arrow{a} / delta arrow{b})_i_j = delta a_i / delta _j\n",
    "\n",
    "delta/delta x( arrow x ^T * arrow a) = delta/delta x *(arrow a ^T * arrowx a)= arrow a \n"
   ]
  },
  {
   "cell_type": "markdown",
   "metadata": {},
   "source": [
    "Arrow A * arrow u_i = lambda_i * arrow u_i\n",
    "\n",
    "lambda_i : eigen vector\n",
    "u_i : eigen vector\n",
    "\n",
    "numpy.linalg"
   ]
  },
  {
   "cell_type": "markdown",
   "metadata": {},
   "source": [
    "Symmetric \n",
    "\n",
    "Orthogonal\n",
    "\n"
   ]
  },
  {
   "cell_type": "markdown",
   "metadata": {},
   "source": [
    "Lagrange Multipliers\n",
    "* find maximum of $f(x_1,x_2)$ subject to constraints $g(x_1,x_2) = 0$\n",
    "\n",
    "Define:\n",
    "* $\\phi(x_1,x_2,\\lambda)$ = $f(x_1,x_2)$ + $\\lambda * \\delta g/\\delta x_1$ = 0\n",
    "* delta phi / delta x_1 = delta f / delta x_1 + lambda * delta g / delta x_1 = 0\n",
    "* delta phi / delta x_2 = delta f / delta x_2 + lambda * delta g / delta x_2 = 0\n",
    "* delta phi/ delta lambda = g(x_1,x_2) = 0\n",
    "\n",
    "All this ^^^^ stuff is for next lecture: Principal Component Analysis"
   ]
  },
  {
   "cell_type": "markdown",
   "metadata": {},
   "source": [
    "$\\textbf{Today's Topic: Unsupervised Learning}$\n"
   ]
  },
  {
   "cell_type": "markdown",
   "metadata": {},
   "source": [
    "Clustering:\n",
    "    * Gaussian mixtures (EM)\n",
    "    * k-means\n",
    "    * k-medoids\n",
    "    * hierarchal clustering"
   ]
  },
  {
   "cell_type": "markdown",
   "metadata": {},
   "source": [
    "***** Unsupervised Learning: no way to check your answer"
   ]
  },
  {
   "cell_type": "markdown",
   "metadata": {},
   "source": [
    "$\\textit{k-means clustering}$\n",
    "* plot of two random (but distinct) clusters of data points\n",
    "* find centers of each cluster\n",
    "\n",
    "Methodology $\\\\$\n",
    "1. Decide value of k $\\\\$\n",
    "2. Start with random values for the center of the k-cluster\n",
    "3. For each point, calculate the euclidean distance to the k-cluster centers\n",
    "4. New cluster center for the n-th cluster (centroid) is\n",
    "\n",
    "x_center^(n) =\\Sigma x_i^(n) / (N_n)\n",
    "\n",
    "y_center^(n) = \\Sigma y_i^(n) / (N_n)     <-- Sum is over all i which belong to cluster n\n",
    "\n",
    "N_n is number of points in the nth cluster\n",
    "\n",
    "*5. Repeat steps 2 and 3 until the assignments of the data points do not change"
   ]
  },
  {
   "cell_type": "markdown",
   "metadata": {},
   "source": [
    "1. Run this many times with different intial values for centeres of clusters\n",
    "2. Delete 10% (some small fraction) of points and run many times"
   ]
  },
  {
   "cell_type": "markdown",
   "metadata": {},
   "source": [
    "$\\textbf{Hierarchal Clustering}$\n",
    "* Doesn't have ^ these problems!\n"
   ]
  },
  {
   "cell_type": "markdown",
   "metadata": {},
   "source": [
    "At the highest level, there is only one cluster containing all the data points\n",
    "\n",
    "Clusters at each level of the hierarchy are created by merging clusters at the lower level\n",
    "\n",
    "At the lowest level each cluster contains a single data point\n",
    "\n",
    "(think of a famly tree where there are clusters at the top and single points at bottom)"
   ]
  },
  {
   "cell_type": "markdown",
   "metadata": {},
   "source": [
    "One way of doing this: \\textit{Friend-of-Friend} (especially in astronomy)\n",
    "\n",
    "Question: how to decide distance between clusters\n",
    "1. Single linkage (nearest neighbor, Friend of friend)\n",
    "d_SL (G,M) = min (d_i i')\n",
    "2. Complete linkage (farthest neighbors)\n",
    "3. Group average\n",
    "\n"
   ]
  },
  {
   "cell_type": "markdown",
   "metadata": {
    "collapsed": true
   },
   "source": [
    "# Notes from February 17 "
   ]
  },
  {
   "cell_type": "markdown",
   "metadata": {},
   "source": [
    "Also see written notes in Spring 2016 folder"
   ]
  },
  {
   "cell_type": "code",
   "execution_count": 2,
   "metadata": {
    "collapsed": false
   },
   "outputs": [
    {
     "name": "stdout",
     "output_type": "stream",
     "text": [
      "[ 3  1  1  2  1 23 22 20 24 24]\n",
      "###\n",
      "Number of clusters 9\n",
      "Cluster list [[3], [2], [1], [23], [22], [20], [24], [24], [1, 1]]\n",
      "###\n",
      "Number of clusters 8\n",
      "Cluster list [[3], [2], [23], [22], [20], [24], [24], [1, 1, 1]]\n",
      "###\n",
      "Number of clusters 7\n",
      "Cluster list [[3], [2], [23], [22], [20], [1, 1, 1], [24, 24]]\n",
      "###\n",
      "Number of clusters 6\n",
      "Cluster list [[23], [22], [20], [1, 1, 1], [24, 24], [3, 2]]\n",
      "###\n",
      "Number of clusters 5\n",
      "Cluster list [[20], [1, 1, 1], [24, 24], [3, 2], [23, 22]]\n",
      "###\n",
      "Number of clusters 4\n",
      "Cluster list [[20], [24, 24], [23, 22], [1, 1, 1, 3, 2]]\n",
      "###\n",
      "Number of clusters 3\n",
      "Cluster list [[20], [1, 1, 1, 3, 2], [24, 24, 23, 22]]\n",
      "###\n",
      "Number of clusters 2\n",
      "Cluster list [[1, 1, 1, 3, 2], [20, 24, 24, 23, 22]]\n",
      "###\n",
      "Number of clusters 1\n",
      "Cluster list [[1, 1, 1, 3, 2, 20, 24, 24, 23, 22]]\n"
     ]
    }
   ],
   "source": [
    "# Python clustering \n",
    "import numpy as np\n",
    "\n",
    "very_large = 10E6\n",
    "data  = np.random.randint(0,5,5)\n",
    "data2 = np.random.randint(17,25,5) \n",
    "data  = np.append(data,data2)\n",
    "print(data)\n",
    "\n",
    "cluster_list = [0]*len(data)\n",
    "\n",
    "def distance(cluster1,cluster2):\n",
    "    d = 0.0\n",
    "    for i in range(len(cluster1)):\n",
    "        for j in range(len(cluster2)):\n",
    "            d = d + abs(cluster1[i] - cluster2[j])\n",
    "    \n",
    "    return d * 1.0/(len(cluster1)*len(cluster2))\n",
    "\n",
    "for i in range(len(data)):\n",
    "    cluster_list[i] = [data[i]]\n",
    "    \n",
    "#print(cluster_list)\n",
    "    \n",
    "while (len(cluster_list) > 1):  # this is our stopping condition\n",
    "    min_distance = very_large\n",
    "    for i in range(len(cluster_list)):\n",
    "        for j in range(len(cluster_list)):\n",
    "            if (i == j):\n",
    "                continue\n",
    "            else:\n",
    "                distance_ij = distance(cluster_list[i],cluster_list[j])\n",
    "                #print('Dist',i,j,distance_ij)\n",
    "                if (distance_ij < min_distance) :\n",
    "                    min_distance = distance_ij\n",
    "                    min_i = i\n",
    "                    min_j = j\n",
    "    clusterlist_new = [0]*(len(cluster_list)-1)\n",
    "    k_new = 0\n",
    "    for k in range(len(cluster_list)):\n",
    "        if (k != min_i) and (k != min_j):\n",
    "            clusterlist_new[k_new] = cluster_list[k]\n",
    "            k_new = k_new + 1\n",
    "    merged_cluster         = cluster_list[min_i] + cluster_list[min_j]\n",
    "    clusterlist_new[k_new] = merged_cluster\n",
    "    cluster_list           = clusterlist_new\n",
    "    print('###')\n",
    "    print('Number of clusters',len(cluster_list))\n",
    "    print('Cluster list',cluster_list)"
   ]
  },
  {
   "cell_type": "code",
   "execution_count": null,
   "metadata": {
    "collapsed": true
   },
   "outputs": [],
   "source": []
  },
  {
   "cell_type": "markdown",
   "metadata": {
    "collapsed": true
   },
   "source": [
    "# Notes from Feb 24"
   ]
  },
  {
   "cell_type": "markdown",
   "metadata": {},
   "source": [
    "No new homework for this week: Instead go back and fix homework for two calculate a & b not take them literally."
   ]
  },
  {
   "cell_type": "markdown",
   "metadata": {},
   "source": [
    "$\\textbf{Principal Component Analysis (Dimensional Reduction)}$\n",
    "\n",
    "* Find a low dimensional representation of the data that contains as much as possible of the variation of the data\n",
    "\n",
    "\n",
    "1. Demean the data: remove the mean (i.e. center the data)\n",
    "    - Meaning:\n",
    "    - x$_1$ = x$_1^{original}$ - x$_{mean}$\n",
    "    - x$_2$ = x$_2^{original}$ - x$_{mean}$"
   ]
  },
  {
   "cell_type": "markdown",
   "metadata": {},
   "source": [
    "First principle component is the line that is closest to the n-data points\n",
    "1. remove the mean so mean of each column is zero\n",
    "2. scale the variables to have a standard deiation of 1\n",
    "\n",
    "P < N\n",
    "\n",
    "P << N\n",
    "\n",
    "N = number of data points\n",
    "\n",
    "P = Dimension of each point\n",
    "\n",
    "N observations (in matrix); 3 features"
   ]
  },
  {
   "cell_type": "markdown",
   "metadata": {},
   "source": [
    "1. Missed?\n",
    "2. Compute covariance matrix\n",
    "3. Find Eigen Values and Eigen Vectors of Covariance Matrix\n",
    "    np.linalg,matlab,et\n",
    "4. Sort the eigenvalues from the largest to smallest\n",
    "5. take the M eigen vectors corresponsing to the M largest eigen vals (M<P)\n",
    "6. transform the data into LOWER dimensional space (M-dimensional space)\n",
    "e.g. M = 2\n",
    "\\begin{equation}\n",
    "\\begin{bmatrix} x_1 \\\\ y_1 \\\\ z_1 \\\\ \\end{bmatrix} \\sim \\alpha_1\\begin{bmatrix} a_1 \\\\ b_1 \\\\ c_1 \\\\ \\end{bmatrix}+ \n",
    "\\beta_1\\begin{bmatrix} a_2 \\\\ b_2 \\\\ c_2 \\\\ \\end{bmatrix}\n",
    "\\end{equation}\n",
    "\n",
    "***Basically reducing problem from 3D to 1D\n",
    "\n",
    "Matrix a-c_1 and a-c_2 are the orthonormal basis (unit eigen vectors)"
   ]
  },
  {
   "cell_type": "markdown",
   "metadata": {},
   "source": [
    "NOTE TO SELF: FOR REAL THOUGH GO RELEARN LINEAR ALGEBRA"
   ]
  },
  {
   "cell_type": "markdown",
   "metadata": {},
   "source": [
    "$\\textit{Next Time:}$\n",
    "\n",
    "Singular Value Decompositions"
   ]
  },
  {
   "cell_type": "markdown",
   "metadata": {},
   "source": [
    "*** Looking into extra stuff about this\n",
    "\n",
    "Nicholas Ball: Machine Learning Astronomy\n",
    "\n",
    "Feigelson & Babu (avoid since in R)\n",
    "\n",
    "Ivezic\n",
    "\n",
    "Connolly & Vaanderplast"
   ]
  },
  {
   "cell_type": "code",
   "execution_count": null,
   "metadata": {
    "collapsed": true
   },
   "outputs": [],
   "source": []
  }
 ],
 "metadata": {
  "anaconda-cloud": {},
  "kernelspec": {
   "display_name": "Python [default]",
   "language": "python",
   "name": "python3"
  },
  "language_info": {
   "codemirror_mode": {
    "name": "ipython",
    "version": 3
   },
   "file_extension": ".py",
   "mimetype": "text/x-python",
   "name": "python",
   "nbconvert_exporter": "python",
   "pygments_lexer": "ipython3",
   "version": "3.5.2"
  }
 },
 "nbformat": 4,
 "nbformat_minor": 0
}
