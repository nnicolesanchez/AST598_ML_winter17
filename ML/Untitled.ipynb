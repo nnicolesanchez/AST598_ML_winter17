{
 "cells": [
  {
   "cell_type": "code",
   "execution_count": 1,
   "metadata": {
    "collapsed": true
   },
   "outputs": [],
   "source": [
    "#                                                                                        \n",
    "import pandas as pd\n",
    "import numpy as np\n",
    "from sklearn.model_selection import KFold"
   ]
  },
  {
   "cell_type": "code",
   "execution_count": 2,
   "metadata": {
    "collapsed": false
   },
   "outputs": [],
   "source": [
    "# from nicolesanchez_hw1: python fitdata.py data.out                                     \n",
    "# model: y = ax * b                                                                      \n",
    "a = 1.1\n",
    "b = 1.88\n",
    "k = 5\n",
    "\n",
    "df = pd.read_csv('data.out',names=['x','y'],sep=' ')\n",
    "N  = len(df)\n",
    "n = int(N/k)\n",
    "\n",
    "kernal1 = np.linspace(0,(N/5)-1,n,dtype=int)\n",
    "kernal2 = np.linspace((N/5),(2*N/5)-1,n,dtype=int)\n",
    "kernal3 = np.linspace((2*N/5),(3*N/5)-1,n,dtype=int)\n",
    "kernal4 = np.linspace((3*N/5),(4*N/5)-1,n,dtype=int)\n",
    "kernal5 = np.linspace((4*N/5),N-1,n,dtype=int)\n",
    "kernals = [kernal1,kernal2,kernal3,kernal4,kernal5]"
   ]
  },
  {
   "cell_type": "code",
   "execution_count": 3,
   "metadata": {
    "collapsed": false
   },
   "outputs": [
    {
     "name": "stdout",
     "output_type": "stream",
     "text": [
      "Test set is kernal 0\n",
      "MSE is 0.4806\n",
      "Test set is kernal 1\n",
      "MSE is 0.4757\n",
      "Test set is kernal 2\n",
      "MSE is 0.483\n",
      "Test set is kernal 3\n",
      "MSE is 0.4777\n",
      "Test set is kernal 4\n",
      "MSE is 0.4779\n",
      "Average MSE over training set is:  0.479\n"
     ]
    }
   ],
   "source": [
    "mse_avg = []\n",
    "for i in range(len(kernals)):\n",
    "    print('Test set is kernal '+str(i))\n",
    "    df_test     = kernals[i]\n",
    "    df_test_x = df.x[df_test]\n",
    "    df_test_y = df.y[df_test]\n",
    "\n",
    "    df_train  = df.drop(df_test_x.index)\n",
    "    #print(df_training)\n",
    "    \n",
    "    model_y = a*df_train.x + b\n",
    "    mse     = np.abs((df_train.y - model_y))\n",
    "    mse_mn  = np.mean(mse) \n",
    "    mse_avg.append(mse_mn)\n",
    "    print('MSE is',round(mse_mn,4))\n",
    "\n",
    "print('Average MSE over training set is: ',round(np.average(mse_avg),4))"
   ]
  },
  {
   "cell_type": "code",
   "execution_count": 4,
   "metadata": {
    "collapsed": false
   },
   "outputs": [
    {
     "data": {
      "text/plain": [
       "6"
      ]
     },
     "execution_count": 4,
     "metadata": {},
     "output_type": "execute_result"
    }
   ],
   "source": [
    "text_file = open(\"crossvalidate5.out\", \"w\")\n",
    "text_file.write(\"# Average MSE \\n\")\n",
    "text_file.write(str(round(np.average(mse_avg),4))+'\\n')"
   ]
  },
  {
   "cell_type": "code",
   "execution_count": 16,
   "metadata": {
    "collapsed": false
   },
   "outputs": [
    {
     "name": "stdout",
     "output_type": "stream",
     "text": [
      "Test set is kernal 0\n",
      "MSE is 6.505\n",
      "Test set is kernal 1\n",
      "MSE is 6.4396\n",
      "Test set is kernal 2\n",
      "MSE is 6.5289\n",
      "Test set is kernal 3\n",
      "MSE is 6.4716\n",
      "Test set is kernal 4\n",
      "MSE is 6.4704\n",
      "Average MSE over training set is:  6.4831\n",
      "Test set is kernal 0\n",
      "MSE is 32.8119\n",
      "Test set is kernal 1\n",
      "MSE is 32.1965\n",
      "Test set is kernal 2\n",
      "MSE is 33.087\n",
      "Test set is kernal 3\n",
      "MSE is 32.5904\n",
      "Test set is kernal 4\n",
      "MSE is 32.4206\n",
      "Average MSE over training set is:  32.6213\n"
     ]
    }
   ],
   "source": [
    "# Testing another type of model\n",
    "c = 10\n",
    "\n",
    "mse_avg = []\n",
    "for i in range(len(kernals)):\n",
    "    print('Test set is kernal '+str(i))\n",
    "    df_test     = kernals[i]\n",
    "    df_test_x = df.x[df_test]\n",
    "    df_test_y = df.y[df_test]\n",
    "\n",
    "    df_train  = df.drop(df_test_x.index)\n",
    "    #print(df_training)\n",
    "    \n",
    "    model_y = a*np.sin(df_train.x)\n",
    "    #print(model_y)\n",
    "    mse     = np.abs((df_train.y - model_y))\n",
    "    mse_mn  = np.mean(mse) \n",
    "    mse_avg.append(mse_mn)\n",
    "    print('MSE is',round(mse_mn,4))\n",
    "\n",
    "print('Average MSE over training set is: ',round(np.average(mse_avg),4))\n",
    "\n",
    "\n",
    "mse_avg = []\n",
    "for i in range(len(kernals)):\n",
    "    print('Test set is kernal '+str(i))\n",
    "    df_test     = kernals[i]\n",
    "    df_test_x = df.x[df_test]\n",
    "    df_test_y = df.y[df_test]\n",
    "\n",
    "    df_train  = df.drop(df_test_x.index)\n",
    "    #print(df_training)\n",
    "    \n",
    "    model_y = a*df_train.x**2. + b*df_train.x - c\n",
    "    #print(model_y)\n",
    "    mse     = np.abs((df_train.y - model_y))\n",
    "    mse_mn  = np.mean(mse) \n",
    "    mse_avg.append(mse_mn)\n",
    "    print('MSE is',round(mse_mn,4))\n",
    "\n",
    "print('Average MSE over training set is: ',round(np.average(mse_avg),4))"
   ]
  },
  {
   "cell_type": "code",
   "execution_count": null,
   "metadata": {
    "collapsed": true
   },
   "outputs": [],
   "source": []
  }
 ],
 "metadata": {
  "kernelspec": {
   "display_name": "Python [default]",
   "language": "python",
   "name": "python3"
  },
  "language_info": {
   "codemirror_mode": {
    "name": "ipython",
    "version": 3
   },
   "file_extension": ".py",
   "mimetype": "text/x-python",
   "name": "python",
   "nbconvert_exporter": "python",
   "pygments_lexer": "ipython3",
   "version": "3.5.2"
  }
 },
 "nbformat": 4,
 "nbformat_minor": 2
}
